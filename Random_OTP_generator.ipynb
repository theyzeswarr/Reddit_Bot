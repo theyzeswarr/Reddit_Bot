{
  "nbformat": 4,
  "nbformat_minor": 0,
  "metadata": {
    "colab": {
      "provenance": []
    },
    "kernelspec": {
      "name": "python3",
      "display_name": "Python 3"
    },
    "language_info": {
      "name": "python"
    }
  },
  "cells": [
    {
      "cell_type": "code",
      "source": [
        "!pip install random2"
      ],
      "metadata": {
        "colab": {
          "base_uri": "https://localhost:8080/"
        },
        "id": "erwdVamVAdFe",
        "outputId": "9bdebcff-7d0a-4400-e72d-cf72f847b18a"
      },
      "execution_count": 12,
      "outputs": [
        {
          "output_type": "stream",
          "name": "stdout",
          "text": [
            "Collecting random2\n",
            "  Downloading random2-1.0.1.zip (21 kB)\n",
            "  Preparing metadata (setup.py) ... \u001b[?25l\u001b[?25hdone\n",
            "Building wheels for collected packages: random2\n",
            "  Building wheel for random2 (setup.py) ... \u001b[?25l\u001b[?25hdone\n",
            "  Created wheel for random2: filename=random2-1.0.1-py3-none-any.whl size=12042 sha256=0bf6b291185f8c066315bd88ac60b446eb94437e2d586f1b9a5a375a48bd29c5\n",
            "  Stored in directory: /root/.cache/pip/wheels/61/1f/84/8713326a151c1638e7a00202e4074b46e839d22b7d22f8400f\n",
            "Successfully built random2\n",
            "Installing collected packages: random2\n",
            "Successfully installed random2-1.0.1\n"
          ]
        }
      ]
    },
    {
      "cell_type": "code",
      "execution_count": 17,
      "metadata": {
        "id": "lv26dJS0_bJk"
      },
      "outputs": [],
      "source": [
        "import random"
      ]
    },
    {
      "cell_type": "code",
      "source": [
        "def generate_otp(length):\n",
        "    \"\"\"Generate a random OTP of the specified length.\"\"\"\n",
        "    digits = string.digits\n",
        "    otp = ''.join(random.choice(digits) for _ in range(length))\n",
        "    return otp"
      ],
      "metadata": {
        "id": "irD5gNa4_l1_"
      },
      "execution_count": 19,
      "outputs": []
    },
    {
      "cell_type": "code",
      "source": [
        "if __name__ == '__main__':\n",
        "    otp_length = int(input(\"Enter the desired OTP length: \"))\n",
        "    otp = generate_otp(otp_length)\n",
        "    print(\"Generated OTP:\", otp)"
      ],
      "metadata": {
        "colab": {
          "base_uri": "https://localhost:8080/"
        },
        "id": "Go1vt4yG_ukC",
        "outputId": "3f81e1f6-6d19-4dae-af71-cb610737514b"
      },
      "execution_count": 21,
      "outputs": [
        {
          "output_type": "stream",
          "name": "stdout",
          "text": [
            "Enter the desired OTP length: 4\n",
            "Generated OTP: 3546\n"
          ]
        }
      ]
    }
  ]
}